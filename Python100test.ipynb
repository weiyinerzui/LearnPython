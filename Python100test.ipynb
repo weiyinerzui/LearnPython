{
 "cells": [
  {
   "cell_type": "markdown",
   "id": "39c399bc-2e74-49c1-96c2-4267243bcc34",
   "metadata": {},
   "source": [
    "# Python基础习题"
   ]
  },
  {
   "cell_type": "code",
   "execution_count": 1,
   "id": "4f5133e4-7955-4567-bb4b-ffd7a4205dc6",
   "metadata": {},
   "outputs": [],
   "source": [
    "# 设置输出多行结果\n",
    "from IPython.core.interactiveshell import InteractiveShell\n",
    "InteractiveShell.ast_node_interactivity = \"all\""
   ]
  },
  {
   "cell_type": "markdown",
   "id": "4cb08195-ff0e-45ba-943e-e0fa6a148506",
   "metadata": {},
   "source": [
    "## 1. 怎么计算2的3次方"
   ]
  },
  {
   "cell_type": "code",
   "execution_count": 5,
   "id": "8806a581-7a36-4f4e-8920-106bb3c0506f",
   "metadata": {},
   "outputs": [
    {
     "data": {
      "text/plain": [
       "8"
      ]
     },
     "execution_count": 5,
     "metadata": {},
     "output_type": "execute_result"
    },
    {
     "data": {
      "text/plain": [
       "8"
      ]
     },
     "execution_count": 5,
     "metadata": {},
     "output_type": "execute_result"
    }
   ],
   "source": [
    "# 直接用运算符 **\n",
    "2 ** 3\n",
    "\n",
    "# 用函数 pow\n",
    "pow(2,3)"
   ]
  },
  {
   "cell_type": "markdown",
   "id": "ca4df5be-346e-47b8-88ba-e2e497db3ef8",
   "metadata": {},
   "source": [
    "## 2. 怎么找出序列中的最大最小值？"
   ]
  },
  {
   "cell_type": "code",
   "execution_count": 6,
   "id": "445d3517-029c-4717-9213-27b77c34c936",
   "metadata": {},
   "outputs": [
    {
     "data": {
      "text/plain": [
       "888"
      ]
     },
     "execution_count": 6,
     "metadata": {},
     "output_type": "execute_result"
    },
    {
     "data": {
      "text/plain": [
       "123"
      ]
     },
     "execution_count": 6,
     "metadata": {},
     "output_type": "execute_result"
    }
   ],
   "source": [
    "# 用内置函数 max 和 min\n",
    "l = (123, 888, 666)\n",
    "max(l)\n",
    "min(l)"
   ]
  },
  {
   "cell_type": "markdown",
   "id": "72785c7b-074b-490c-8ba8-375083e34627",
   "metadata": {},
   "source": [
    "## 3. 怎么将字符列表转为字符串"
   ]
  },
  {
   "cell_type": "code",
   "execution_count": 8,
   "id": "d1067749-c6f8-49f8-a699-0eb74827e793",
   "metadata": {},
   "outputs": [
    {
     "data": {
      "text/plain": [
       "'Python Circle is ok'"
      ]
     },
     "execution_count": 8,
     "metadata": {},
     "output_type": "execute_result"
    }
   ],
   "source": [
    "# 用 join 方法，合并序列的元素\n",
    "l = ['Python', 'Circle', 'is', 'ok']\n",
    "j = \" \".join(l)\n",
    "j"
   ]
  },
  {
   "cell_type": "markdown",
   "id": "7490a433-d2dc-43ae-a536-d4336e14e69c",
   "metadata": {},
   "source": [
    "## 4. 怎么快速打印出包含所有 ASCII 字母（大写和小写）的字符串"
   ]
  },
  {
   "cell_type": "code",
   "execution_count": 9,
   "id": "664eb356-1ef1-4d02-bf78-1a0bdfef5ab5",
   "metadata": {},
   "outputs": [
    {
     "data": {
      "text/plain": [
       "'abcdefghijklmnopqrstuvwxyzABCDEFGHIJKLMNOPQRSTUVWXYZ'"
      ]
     },
     "execution_count": 9,
     "metadata": {},
     "output_type": "execute_result"
    }
   ],
   "source": [
    "# 用 string 模块的方法\n",
    "import string\n",
    "string.ascii_letters"
   ]
  },
  {
   "cell_type": "markdown",
   "id": "3a274c91-5bb1-42d1-9712-954d9b576720",
   "metadata": {},
   "source": [
    "## 5. 怎么让字符串居中\n",
    "用字符串中的 center 方法，他会在两边自动填充字符（默认为空格），让字符串居中"
   ]
  },
  {
   "cell_type": "code",
   "execution_count": 11,
   "id": "ef8ac107-fbe4-404d-a7f0-a3d0aa062da5",
   "metadata": {},
   "outputs": [
    {
     "data": {
      "text/plain": [
       "'              更多精彩，请关注公众号「Python知识圈」              '"
      ]
     },
     "execution_count": 11,
     "metadata": {},
     "output_type": "execute_result"
    },
    {
     "data": {
      "text/plain": [
       "'**************更多精彩，请关注公众号「Python知识圈」**************'"
      ]
     },
     "execution_count": 11,
     "metadata": {},
     "output_type": "execute_result"
    }
   ],
   "source": [
    "k = '更多精彩，请关注公众号「Python知识圈」'\n",
    "k.center(50)\n",
    "k.center(50,'*')"
   ]
  },
  {
   "cell_type": "markdown",
   "id": "ec3eafb4-4861-458c-8dc6-ec4f5b27d208",
   "metadata": {},
   "source": [
    "## 6. 怎么在字符串中找到子串\n",
    "用 find 方法，如果找到，就返回子串的第一个字符的索引，否则返回 -1"
   ]
  },
  {
   "cell_type": "code",
   "execution_count": 14,
   "id": "2ee24bf9-f73a-4fa2-9a74-56f4c0851953",
   "metadata": {},
   "outputs": [
    {
     "data": {
      "text/plain": [
       "0"
      ]
     },
     "execution_count": 14,
     "metadata": {},
     "output_type": "execute_result"
    },
    {
     "data": {
      "text/plain": [
       "7"
      ]
     },
     "execution_count": 14,
     "metadata": {},
     "output_type": "execute_result"
    },
    {
     "data": {
      "text/plain": [
       "-1"
      ]
     },
     "execution_count": 14,
     "metadata": {},
     "output_type": "execute_result"
    }
   ],
   "source": [
    "ss = 'I Love Python'\n",
    "ss.find('I')\n",
    "ss.find(\"Python\")\n",
    "ss.find('i')"
   ]
  },
  {
   "cell_type": "markdown",
   "id": "8a633eca-4bd8-4609-af9a-ff2af063e761",
   "metadata": {},
   "source": [
    "## 7. 怎么让字符的首字母大写，其他字母小写\n",
    "1. 解法1:用 title 方法。\n",
    "2. 解法2:用 string 模块里的 capwords 方法。"
   ]
  },
  {
   "cell_type": "code",
   "execution_count": 20,
   "id": "fefcd58d-da85-425d-8715-8e684519932b",
   "metadata": {},
   "outputs": [
    {
     "data": {
      "text/plain": [
       "'I Love Python'"
      ]
     },
     "execution_count": 20,
     "metadata": {},
     "output_type": "execute_result"
    },
    {
     "data": {
      "text/plain": [
       "'i love python'"
      ]
     },
     "execution_count": 20,
     "metadata": {},
     "output_type": "execute_result"
    }
   ],
   "source": [
    "# title 方法\n",
    "ss = 'i love python'\n",
    "ss.title()\n",
    "ss"
   ]
  },
  {
   "cell_type": "code",
   "execution_count": 19,
   "id": "2ada738c-faf8-43cf-8313-b7bbf5c3b70f",
   "metadata": {},
   "outputs": [
    {
     "data": {
      "text/plain": [
       "'I Love Python'"
      ]
     },
     "execution_count": 19,
     "metadata": {},
     "output_type": "execute_result"
    }
   ],
   "source": [
    "# string 的 capwords\n",
    "string.capwords(ss)"
   ]
  },
  {
   "cell_type": "markdown",
   "id": "5b7e8fa9-ce11-4313-98f2-aab1cb04402f",
   "metadata": {},
   "source": [
    "## 8. 怎么清空列表内容"
   ]
  },
  {
   "cell_type": "code",
   "execution_count": 22,
   "id": "7661ab43-a7f0-40d4-81c4-d991ac8a0b72",
   "metadata": {},
   "outputs": [
    {
     "data": {
      "text/plain": [
       "[]"
      ]
     },
     "execution_count": 22,
     "metadata": {},
     "output_type": "execute_result"
    }
   ],
   "source": [
    "# clear 方法\n",
    "l = [1, 2, 3]\n",
    "l.clear()\n",
    "l"
   ]
  },
  {
   "cell_type": "code",
   "execution_count": 23,
   "id": "dd58ee04-3185-4c84-80fc-4bf3949db959",
   "metadata": {},
   "outputs": [
    {
     "data": {
      "text/plain": [
       "[]"
      ]
     },
     "execution_count": 23,
     "metadata": {},
     "output_type": "execute_result"
    }
   ],
   "source": [
    "# 用切片赋值的方法\n",
    "k = [3, 4, 5]\n",
    "k[:] = []\n",
    "k"
   ]
  },
  {
   "cell_type": "markdown",
   "id": "4b97b604-1227-433b-9fab-35ca98855757",
   "metadata": {},
   "source": [
    "## 8. 怎么计算指定的元素在列表中出现了多少次？"
   ]
  },
  {
   "cell_type": "code",
   "execution_count": 25,
   "id": "537b1207-a089-4fe4-a601-cd64f52257e1",
   "metadata": {},
   "outputs": [
    {
     "data": {
      "text/plain": [
       "2"
      ]
     },
     "execution_count": 25,
     "metadata": {},
     "output_type": "execute_result"
    }
   ],
   "source": [
    "# count 方法\n",
    "l = ['i', 'am', 'ok', 'ok']\n",
    "l.count('ok')"
   ]
  },
  {
   "cell_type": "markdown",
   "id": "806e3da2-f0d9-4283-abe6-e1653cfdcf66",
   "metadata": {},
   "source": [
    "## 9. 怎么在列表末尾加入其它元素"
   ]
  },
  {
   "cell_type": "code",
   "execution_count": 27,
   "id": "17cf6e63-144b-494c-92aa-e85f7cc1b83e",
   "metadata": {},
   "outputs": [
    {
     "data": {
      "text/plain": [
       "[1, 2, 3, 4, 5, 6]"
      ]
     },
     "execution_count": 27,
     "metadata": {},
     "output_type": "execute_result"
    }
   ],
   "source": [
    "# 用 extend 方法\n",
    "l = [1, 2, 3]\n",
    "j = [4, 5, 6]\n",
    "l.extend(j)\n",
    "l"
   ]
  },
  {
   "cell_type": "markdown",
   "id": "d641b08d-2efc-4e3d-ac5a-93963d6f8df6",
   "metadata": {},
   "source": [
    "## 10. extend 和列表相加的区别？\n",
    "extend 是直接在 l 列表里加入元素，相加会生成一个新元素，并不会对 l 做修改。"
   ]
  },
  {
   "cell_type": "code",
   "execution_count": 29,
   "id": "63e59aa0-89e4-419e-a4d5-b2fde5362a4c",
   "metadata": {},
   "outputs": [
    {
     "data": {
      "text/plain": [
       "[1, 2, 3, 4, 5, 6]"
      ]
     },
     "execution_count": 29,
     "metadata": {},
     "output_type": "execute_result"
    },
    {
     "data": {
      "text/plain": [
       "[1, 2, 3]"
      ]
     },
     "execution_count": 29,
     "metadata": {},
     "output_type": "execute_result"
    }
   ],
   "source": [
    "l = [1, 2, 3]\n",
    "j = [4, 5, 6]\n",
    "l + j\n",
    "l"
   ]
  },
  {
   "cell_type": "markdown",
   "id": "681c77a0-b87d-4dd6-95cc-a263a5563a72",
   "metadata": {},
   "source": [
    "## 11. 怎么查找列表中某个元素第一次出现的索引，从 0 开始\n",
    "类似 string 的 find 方法"
   ]
  },
  {
   "cell_type": "code",
   "execution_count": 31,
   "id": "04449e3b-e378-4c28-aaea-672779c63675",
   "metadata": {},
   "outputs": [
    {
     "data": {
      "text/plain": [
       "0"
      ]
     },
     "execution_count": 31,
     "metadata": {},
     "output_type": "execute_result"
    }
   ],
   "source": [
    "l = ['are', 'you', 'ok']\n",
    "l.index('are')"
   ]
  },
  {
   "cell_type": "markdown",
   "id": "3936f7f8-bfdc-4aae-b23b-20574db44ab7",
   "metadata": {},
   "source": [
    "## 12.怎么将一个对象插入到列表中"
   ]
  },
  {
   "cell_type": "code",
   "execution_count": 36,
   "id": "2360f4de-6fa0-4aae-bc25-25dc4fb2dc95",
   "metadata": {},
   "outputs": [
    {
     "data": {
      "text/plain": [
       "[1, 2, 'three', 4, 5]"
      ]
     },
     "execution_count": 36,
     "metadata": {},
     "output_type": "execute_result"
    }
   ],
   "source": [
    "# 用 insert 方法\n",
    "num = [1, 2, 4, 5]\n",
    "num.insert(2, 'three')\n",
    "num"
   ]
  },
  {
   "cell_type": "code",
   "execution_count": 39,
   "id": "70162050-e182-4386-adfc-5d6b1c9dff7f",
   "metadata": {},
   "outputs": [
    {
     "data": {
      "text/plain": [
       "[1, 2, 'three', 4, 5]"
      ]
     },
     "execution_count": 39,
     "metadata": {},
     "output_type": "execute_result"
    }
   ],
   "source": [
    "# 用切片的方法\n",
    "num = [1, 2, 4, 5]\n",
    "num[2:2] = ['three'] # 注此处不能为 'three'\n",
    "num"
   ]
  },
  {
   "cell_type": "markdown",
   "id": "00406504-6870-4098-99db-10a9d636d3b8",
   "metadata": {},
   "source": [
    "## 13.怎么删除列表中元素\n",
    "pop 方法可以删除指定元素，不指定位置的话默认删除最后一个元素"
   ]
  },
  {
   "cell_type": "code",
   "execution_count": 42,
   "id": "7f9b0f71-b2a5-4513-9feb-be6479e76a5e",
   "metadata": {},
   "outputs": [
    {
     "data": {
      "text/plain": [
       "5"
      ]
     },
     "execution_count": 42,
     "metadata": {},
     "output_type": "execute_result"
    },
    {
     "data": {
      "text/plain": [
       "[1, 2, 4]"
      ]
     },
     "execution_count": 42,
     "metadata": {},
     "output_type": "execute_result"
    },
    {
     "data": {
      "text/plain": [
       "2"
      ]
     },
     "execution_count": 42,
     "metadata": {},
     "output_type": "execute_result"
    },
    {
     "data": {
      "text/plain": [
       "[1, 4]"
      ]
     },
     "execution_count": 42,
     "metadata": {},
     "output_type": "execute_result"
    }
   ],
   "source": [
    "num = [1, 2, 4, 5]\n",
    "num.pop()\n",
    "num\n",
    "num.pop(1)\n",
    "num"
   ]
  },
  {
   "cell_type": "markdown",
   "id": "bf3e7910-88a3-44f0-9a9d-db44066ab211",
   "metadata": {},
   "source": [
    "## 14. 怎么删除列表中指定元素\n",
    "用 remove 方法:remove 方法只会删除第一次出现的元素"
   ]
  },
  {
   "cell_type": "code",
   "execution_count": 44,
   "id": "02a44316-3ac5-4603-84b8-7a58302d9ce3",
   "metadata": {},
   "outputs": [
    {
     "data": {
      "text/plain": [
       "[1, 2, 5, 4]"
      ]
     },
     "execution_count": 44,
     "metadata": {},
     "output_type": "execute_result"
    }
   ],
   "source": [
    "num = [1, 2, 4, 5, 4]\n",
    "num.remove(4)\n",
    "num"
   ]
  },
  {
   "cell_type": "markdown",
   "id": "67254142-b933-443a-a998-92f372bdaae5",
   "metadata": {},
   "source": [
    "## 15. 怎么让列表按相反顺序排列？"
   ]
  },
  {
   "cell_type": "code",
   "execution_count": 46,
   "id": "8001208d-1f59-4a58-8f76-9c4677d46a02",
   "metadata": {},
   "outputs": [
    {
     "data": {
      "text/plain": [
       "[49, 99, 45, 22, 1]"
      ]
     },
     "execution_count": 46,
     "metadata": {},
     "output_type": "execute_result"
    }
   ],
   "source": [
    "# 用 reverse 方法\n",
    "num = [1, 22, 45, 99, 49]\n",
    "num.reverse()\n",
    "num"
   ]
  },
  {
   "cell_type": "code",
   "execution_count": 50,
   "id": "2cb89c4c-3ab0-4630-8a61-b4d4b545c3af",
   "metadata": {},
   "outputs": [
    {
     "data": {
      "text/plain": [
       "[49, 99, 45, 22, 1]"
      ]
     },
     "execution_count": 50,
     "metadata": {},
     "output_type": "execute_result"
    }
   ],
   "source": [
    "# 用切片的方法\n",
    "num = [1, 22, 45, 99, 49]\n",
    "num[::-1]"
   ]
  },
  {
   "cell_type": "markdown",
   "id": "436977b3-797d-426b-9480-ca37c0afa29c",
   "metadata": {},
   "source": [
    "## 16. 怎么表示只包含一个元素的元组\n",
    "1个元素的元组，必须在唯一的元素后加上逗号，否则不是元组"
   ]
  },
  {
   "cell_type": "code",
   "execution_count": 53,
   "id": "d96c8c75-bb9c-46df-af9b-a102602138c4",
   "metadata": {},
   "outputs": [
    {
     "data": {
      "text/plain": [
       "int"
      ]
     },
     "execution_count": 53,
     "metadata": {},
     "output_type": "execute_result"
    },
    {
     "data": {
      "text/plain": [
       "1"
      ]
     },
     "execution_count": 53,
     "metadata": {},
     "output_type": "execute_result"
    },
    {
     "data": {
      "text/plain": [
       "tuple"
      ]
     },
     "execution_count": 53,
     "metadata": {},
     "output_type": "execute_result"
    },
    {
     "data": {
      "text/plain": [
       "(1,)"
      ]
     },
     "execution_count": 53,
     "metadata": {},
     "output_type": "execute_result"
    }
   ],
   "source": [
    "t = (1)\n",
    "type(t)\n",
    "t\n",
    "t = (1,)\n",
    "type(t)\n",
    "t"
   ]
  },
  {
   "cell_type": "markdown",
   "id": "9de88c8e-94d1-404b-8e64-46d8a621ffa2",
   "metadata": {},
   "source": [
    "## 17. 怎么批量替换字符串中的元素\n",
    "用 replace 方法"
   ]
  },
  {
   "cell_type": "code",
   "execution_count": 54,
   "id": "9970113d-eaf2-4063-aab8-442ab08e68eb",
   "metadata": {},
   "outputs": [
    {
     "data": {
      "text/plain": [
       "'i leeve pytheen'"
      ]
     },
     "execution_count": 54,
     "metadata": {},
     "output_type": "execute_result"
    }
   ],
   "source": [
    "'i love python'.replace('o','ee')"
   ]
  },
  {
   "cell_type": "markdown",
   "id": "8add4c45-355e-4268-a2a1-2a73a6971a1e",
   "metadata": {},
   "source": [
    "## 18. 怎么把字符串按照空格进行拆分\n",
    "用 split 方法，括号为空的情况下默认以空格拆分"
   ]
  },
  {
   "cell_type": "code",
   "execution_count": 56,
   "id": "01b9244e-a017-457a-a62c-9c7a3c3525ce",
   "metadata": {},
   "outputs": [
    {
     "data": {
      "text/plain": [
       "['i', 'love', 'python']"
      ]
     },
     "execution_count": 56,
     "metadata": {},
     "output_type": "execute_result"
    }
   ],
   "source": [
    "'i love python'.split()"
   ]
  },
  {
   "cell_type": "markdown",
   "id": "fcf498fd-5154-4ef0-bded-bebcfe9ec52c",
   "metadata": {
    "tags": []
   },
   "source": [
    "## 19. 怎么去除字符串首尾的空格"
   ]
  },
  {
   "cell_type": "code",
   "execution_count": 57,
   "id": "ca6009ed-f683-4654-b476-58bc0c240712",
   "metadata": {},
   "outputs": [
    {
     "data": {
      "text/plain": [
       "'i love python'"
      ]
     },
     "execution_count": 57,
     "metadata": {},
     "output_type": "execute_result"
    }
   ],
   "source": [
    "'  i love python  '.strip()"
   ]
  },
  {
   "cell_type": "markdown",
   "id": "08a3dd2f-156c-4900-ba52-07dcc271cb38",
   "metadata": {
    "tags": []
   },
   "source": [
    "## 20. 怎么给字典中不存在的key指定默认值"
   ]
  },
  {
   "cell_type": "code",
   "execution_count": 60,
   "id": "5a1e32da-414f-4424-9024-0e902595035a",
   "metadata": {},
   "outputs": [
    {
     "data": {
      "text/plain": [
       "40"
      ]
     },
     "execution_count": 60,
     "metadata": {},
     "output_type": "execute_result"
    },
    {
     "data": {
      "text/plain": [
       "1"
      ]
     },
     "execution_count": 60,
     "metadata": {},
     "output_type": "execute_result"
    },
    {
     "data": {
      "text/plain": [
       "'N/A'"
      ]
     },
     "execution_count": 60,
     "metadata": {},
     "output_type": "execute_result"
    }
   ],
   "source": [
    "d = {'age': 40, 'name': 'g'}\n",
    "d.get('age')\n",
    "d.get('aa',1)\n",
    "d.get('nn','N/A')"
   ]
  },
  {
   "cell_type": "markdown",
   "id": "b62c73ab-66f9-49a6-accd-81e1b034c279",
   "metadata": {},
   "source": [
    "## 21. 怎么快速求 1 到 100 所有整数相加之和"
   ]
  },
  {
   "cell_type": "code",
   "execution_count": 61,
   "id": "9d3edd5f-8cc8-45ef-b71e-96ee82964495",
   "metadata": {},
   "outputs": [
    {
     "data": {
      "text/plain": [
       "5050"
      ]
     },
     "execution_count": 61,
     "metadata": {},
     "output_type": "execute_result"
    }
   ],
   "source": [
    "sum(range(1,101))"
   ]
  },
  {
   "cell_type": "markdown",
   "id": "179a684a-72eb-45bc-888b-298484ef3a1c",
   "metadata": {
    "jp-MarkdownHeadingCollapsed": true,
    "tags": []
   },
   "source": [
    "## 22. 怎么查出模块包含哪些属性？\n",
    "用 dir 方法"
   ]
  },
  {
   "cell_type": "code",
   "execution_count": 64,
   "id": "b910807a-2650-46fc-b6e0-0918cae68fb2",
   "metadata": {},
   "outputs": [
    {
     "data": {
      "text/plain": [
       "['ConnectTimeout',\n",
       " 'ConnectionError',\n",
       " 'DependencyWarning',\n",
       " 'FileModeWarning',\n",
       " 'HTTPError',\n",
       " 'JSONDecodeError',\n",
       " 'NullHandler',\n",
       " 'PreparedRequest',\n",
       " 'ReadTimeout',\n",
       " 'Request',\n",
       " 'RequestException',\n",
       " 'RequestsDependencyWarning',\n",
       " 'Response',\n",
       " 'Session',\n",
       " 'Timeout',\n",
       " 'TooManyRedirects',\n",
       " 'URLRequired',\n",
       " '__author__',\n",
       " '__author_email__',\n",
       " '__build__',\n",
       " '__builtins__',\n",
       " '__cached__',\n",
       " '__cake__',\n",
       " '__copyright__',\n",
       " '__description__',\n",
       " '__doc__',\n",
       " '__file__',\n",
       " '__license__',\n",
       " '__loader__',\n",
       " '__name__',\n",
       " '__package__',\n",
       " '__path__',\n",
       " '__spec__',\n",
       " '__title__',\n",
       " '__url__',\n",
       " '__version__',\n",
       " '_check_cryptography',\n",
       " '_internal_utils',\n",
       " 'adapters',\n",
       " 'api',\n",
       " 'auth',\n",
       " 'certs',\n",
       " 'chardet_version',\n",
       " 'charset_normalizer_version',\n",
       " 'check_compatibility',\n",
       " 'codes',\n",
       " 'compat',\n",
       " 'cookies',\n",
       " 'delete',\n",
       " 'exceptions',\n",
       " 'get',\n",
       " 'head',\n",
       " 'hooks',\n",
       " 'logging',\n",
       " 'models',\n",
       " 'options',\n",
       " 'packages',\n",
       " 'patch',\n",
       " 'post',\n",
       " 'put',\n",
       " 'request',\n",
       " 'session',\n",
       " 'sessions',\n",
       " 'ssl',\n",
       " 'status_codes',\n",
       " 'structures',\n",
       " 'urllib3',\n",
       " 'utils',\n",
       " 'warnings']"
      ]
     },
     "execution_count": 64,
     "metadata": {},
     "output_type": "execute_result"
    }
   ],
   "source": [
    "import requests\n",
    "dir(requests)"
   ]
  },
  {
   "cell_type": "markdown",
   "id": "7e981422-355c-4d29-9914-4f00b1777563",
   "metadata": {},
   "source": [
    "## 23. 怎么快速查看某个模块的帮助文档"
   ]
  },
  {
   "cell_type": "code",
   "execution_count": 66,
   "id": "d5622323-0771-4fc0-9a47-db4cc1f0553e",
   "metadata": {},
   "outputs": [
    {
     "data": {
      "text/plain": [
       "'range(stop) -> range object\\nrange(start, stop[, step]) -> range object\\n\\nReturn an object that produces a sequence of integers from start (inclusive)\\nto stop (exclusive) by step.  range(i, j) produces i, i+1, i+2, ..., j-1.\\nstart defaults to 0, and stop is omitted!  range(4) produces 0, 1, 2, 3.\\nThese are exactly the valid indices for a list of 4 elements.\\nWhen step is given, it specifies the increment (or decrement).'"
      ]
     },
     "execution_count": 66,
     "metadata": {},
     "output_type": "execute_result"
    }
   ],
   "source": [
    "range.__doc__"
   ]
  },
  {
   "cell_type": "markdown",
   "id": "17601974-2f77-4cf0-a9c9-e25ea7e1f99f",
   "metadata": {},
   "source": [
    "## 24. 怎么快速启动浏览器打开指定网站\n",
    "使用 webbrowser 库"
   ]
  },
  {
   "cell_type": "code",
   "execution_count": 67,
   "id": "fc25ec39-44a0-46e8-a1bd-abbcd8cc69f5",
   "metadata": {},
   "outputs": [
    {
     "data": {
      "text/plain": [
       "True"
      ]
     },
     "execution_count": 67,
     "metadata": {},
     "output_type": "execute_result"
    }
   ],
   "source": [
    "import webbrowser\n",
    "webbrowser.open('http://www.python.org')"
   ]
  },
  {
   "cell_type": "markdown",
   "id": "128b004c-12a4-42f0-a99f-f87740adbe3d",
   "metadata": {},
   "source": [
    "## 25. Python里占位符怎么表示？\n",
    "用 pass 占位，当你还没想好代码块的逻辑时，你需要运行代码调试其他功能，需要加占位符，不然会报错"
   ]
  },
  {
   "cell_type": "code",
   "execution_count": 69,
   "id": "25f43a39-ed26-437c-82b7-d24263ce3103",
   "metadata": {},
   "outputs": [],
   "source": [
    "name = ''\n",
    "\n",
    "if name == '小明':\n",
    "    print('听我的')\n",
    "elif name == '小花':\n",
    "    pass"
   ]
  },
  {
   "cell_type": "markdown",
   "id": "97b79e03-57e5-4f03-b60f-961f0f329f39",
   "metadata": {
    "tags": []
   },
   "source": [
    "## 26. 怎么给函数编写文档？\n",
    "在 def 语句后面把注释文档放在引号（单引、双引、三引都可以）里面就行，这个文档可以通过 function.__doc__访问。"
   ]
  },
  {
   "cell_type": "code",
   "execution_count": 70,
   "id": "e94ac89a-4c32-41e3-ad72-9078af1558cd",
   "metadata": {},
   "outputs": [
    {
     "data": {
      "text/plain": [
       "'计算平方值'"
      ]
     },
     "execution_count": 70,
     "metadata": {},
     "output_type": "execute_result"
    }
   ],
   "source": [
    "def squre(x):\n",
    "    \"\"\"计算平方值\"\"\"\n",
    "    return x ** 2\n",
    "squre.__doc__"
   ]
  },
  {
   "cell_type": "markdown",
   "id": "51f70fa1-d86b-4d26-9572-701e96deda38",
   "metadata": {},
   "source": [
    "## 27. 怎么定义私有方法？\n",
    "用 from module import * 导入时不会导入私有方法。"
   ]
  },
  {
   "cell_type": "code",
   "execution_count": 73,
   "id": "7f0ddb37-ccac-4f3f-b0c8-4a4f0041d3eb",
   "metadata": {},
   "outputs": [],
   "source": [
    "class Person:\n",
    "    def __name(self):\n",
    "        print('私有方法')"
   ]
  },
  {
   "cell_type": "markdown",
   "id": "0dd0a561-bd07-442b-8647-0ab414c203cc",
   "metadata": {},
   "source": [
    "## 28. 怎么判断一个类是否是另一个类的子类？\n",
    "用 issubclass 方法，2 个参数，如果第一个参数是第二个参数的子类，返回 True，否则返回 False"
   ]
  },
  {
   "cell_type": "code",
   "execution_count": 74,
   "id": "c806cfae-abc9-4f9c-a211-5082bc8e23c7",
   "metadata": {},
   "outputs": [
    {
     "data": {
      "text/plain": [
       "True"
      ]
     },
     "execution_count": 74,
     "metadata": {},
     "output_type": "execute_result"
    }
   ],
   "source": [
    "class A:\n",
    "    pass\n",
    "class B(A):\n",
    "    pass\n",
    "issubclass(B,A)\n",
    "    "
   ]
  },
  {
   "cell_type": "markdown",
   "id": "dc6300d1-6ee5-4b85-9a0b-acf9ed3ecf8b",
   "metadata": {},
   "source": [
    "## 29. 怎么从一个非空序列中随机选择一个元素？\n",
    "用 random 中的 choice 方法"
   ]
  },
  {
   "cell_type": "code",
   "execution_count": 76,
   "id": "6351f343-7740-4fc9-848d-44b6b59cfbe9",
   "metadata": {},
   "outputs": [
    {
     "data": {
      "text/plain": [
       "1"
      ]
     },
     "execution_count": 76,
     "metadata": {},
     "output_type": "execute_result"
    }
   ],
   "source": [
    "import random\n",
    "random.choice([1, 2, '叁', 4])"
   ]
  },
  {
   "cell_type": "markdown",
   "id": "0d278ad4-9262-4f5a-90e1-3298b051eac9",
   "metadata": {},
   "source": [
    "## 30. 怎么查出通过 from xx import xx导入的可以直接调用的方法？\n",
    "用 all 方法，这个方法查出的是模块下不带_的所有方法，可以直接调用。"
   ]
  },
  {
   "cell_type": "code",
   "execution_count": 77,
   "id": "f2ae68a1-d50e-4da0-963b-d2cfd9a91bfd",
   "metadata": {},
   "outputs": [
    {
     "data": {
      "text/plain": [
       "['Random',\n",
       " 'SystemRandom',\n",
       " 'betavariate',\n",
       " 'choice',\n",
       " 'choices',\n",
       " 'expovariate',\n",
       " 'gammavariate',\n",
       " 'gauss',\n",
       " 'getrandbits',\n",
       " 'getstate',\n",
       " 'lognormvariate',\n",
       " 'normalvariate',\n",
       " 'paretovariate',\n",
       " 'randbytes',\n",
       " 'randint',\n",
       " 'random',\n",
       " 'randrange',\n",
       " 'sample',\n",
       " 'seed',\n",
       " 'setstate',\n",
       " 'shuffle',\n",
       " 'triangular',\n",
       " 'uniform',\n",
       " 'vonmisesvariate',\n",
       " 'weibullvariate']"
      ]
     },
     "execution_count": 77,
     "metadata": {},
     "output_type": "execute_result"
    }
   ],
   "source": [
    "import random\n",
    "random.__all__"
   ]
  },
  {
   "cell_type": "markdown",
   "id": "3b379b01-d4a7-4675-8255-7c34e710dfc9",
   "metadata": {},
   "source": [
    "## 31. 花括号{} 是集合还是字典？"
   ]
  },
  {
   "cell_type": "code",
   "execution_count": 2,
   "id": "269d0fb7-9bc7-498b-899c-46afa8eedcf9",
   "metadata": {},
   "outputs": [
    {
     "data": {
      "text/plain": [
       "dict"
      ]
     },
     "execution_count": 2,
     "metadata": {},
     "output_type": "execute_result"
    }
   ],
   "source": [
    "type({}) "
   ]
  },
  {
   "cell_type": "markdown",
   "id": "dbe040c5-f44d-416e-81b0-78659a198fe7",
   "metadata": {},
   "source": [
    "## 32. 怎么求两个集合的并集？"
   ]
  },
  {
   "cell_type": "code",
   "execution_count": 3,
   "id": "df2c1298-9bab-40c2-bdc0-3a8240e326e4",
   "metadata": {},
   "outputs": [
    {
     "data": {
      "text/plain": [
       "{6, 7, 8, 9}"
      ]
     },
     "execution_count": 3,
     "metadata": {},
     "output_type": "execute_result"
    }
   ],
   "source": [
    "# 用 union 方法\n",
    "a = {6, 7, 8}\n",
    "b = {7, 8, 9}\n",
    "a.union(b)"
   ]
  },
  {
   "cell_type": "code",
   "execution_count": 4,
   "id": "6f6642a8-a9bc-427c-9af9-268d01e21574",
   "metadata": {},
   "outputs": [
    {
     "data": {
      "text/plain": [
       "{6, 7, 8, 9}"
      ]
     },
     "execution_count": 4,
     "metadata": {},
     "output_type": "execute_result"
    }
   ],
   "source": [
    "# 使用按位或运算符 ｜\n",
    "a | b"
   ]
  },
  {
   "cell_type": "markdown",
   "id": "8270459c-b786-4c95-845c-4cee1e021f8c",
   "metadata": {},
   "source": [
    "## 33. 求两个集合的交集"
   ]
  },
  {
   "cell_type": "code",
   "execution_count": 5,
   "id": "d89f46ee-ca52-48ea-b9d0-90f9345e2a31",
   "metadata": {},
   "outputs": [
    {
     "data": {
      "text/plain": [
       "{7, 8}"
      ]
     },
     "execution_count": 5,
     "metadata": {},
     "output_type": "execute_result"
    }
   ],
   "source": [
    "a & b"
   ]
  },
  {
   "cell_type": "code",
   "execution_count": 6,
   "id": "7e3371dc-28e9-4660-b629-9b9a5d9738b6",
   "metadata": {},
   "outputs": [
    {
     "data": {
      "text/plain": [
       "{7, 8}"
      ]
     },
     "execution_count": 6,
     "metadata": {},
     "output_type": "execute_result"
    }
   ],
   "source": [
    "# 用 intersection 方法\n",
    "a.intersection(b)"
   ]
  },
  {
   "cell_type": "markdown",
   "id": "6644d76d-ea80-485c-b2b3-2bff5f9f85cc",
   "metadata": {},
   "source": [
    "## 34. 求两个集合中不重复的元素？\n",
    "差集指的是两个集合交集外的部分"
   ]
  },
  {
   "cell_type": "code",
   "execution_count": 7,
   "id": "cac9248e-4c0a-49ed-a154-d0bf18bdecce",
   "metadata": {},
   "outputs": [
    {
     "data": {
      "text/plain": [
       "{6, 9}"
      ]
     },
     "execution_count": 7,
     "metadata": {},
     "output_type": "execute_result"
    }
   ],
   "source": [
    "# 使用运算符 ^\n",
    "a ^ b"
   ]
  },
  {
   "cell_type": "code",
   "execution_count": 8,
   "id": "59a2db95-57cf-4abb-88cd-53ae5bf15ec3",
   "metadata": {},
   "outputs": [
    {
     "data": {
      "text/plain": [
       "{6, 9}"
      ]
     },
     "execution_count": 8,
     "metadata": {},
     "output_type": "execute_result"
    }
   ],
   "source": [
    "# 使用 symmetric_difference 方法\n",
    "a.symmetric_difference(b)"
   ]
  },
  {
   "cell_type": "markdown",
   "id": "156e0946-3cb8-4197-b77a-1ac1f0e9b9df",
   "metadata": {},
   "source": [
    "## 35. 求两个集合的差集？"
   ]
  },
  {
   "cell_type": "code",
   "execution_count": 9,
   "id": "30536946-b110-4ebc-982c-19ff58cd7c8f",
   "metadata": {},
   "outputs": [
    {
     "data": {
      "text/plain": [
       "{6}"
      ]
     },
     "execution_count": 9,
     "metadata": {},
     "output_type": "execute_result"
    }
   ],
   "source": [
    "# 用运算符 -\n",
    "a - b"
   ]
  },
  {
   "cell_type": "code",
   "execution_count": 10,
   "id": "d4bcf274-c0ac-4edb-9697-d4fcfc1edf4a",
   "metadata": {},
   "outputs": [
    {
     "data": {
      "text/plain": [
       "{9}"
      ]
     },
     "execution_count": 10,
     "metadata": {},
     "output_type": "execute_result"
    }
   ],
   "source": [
    "b - a"
   ]
  },
  {
   "cell_type": "code",
   "execution_count": 11,
   "id": "e22a4985-12d2-406b-b117-d4b7d12d8b6f",
   "metadata": {},
   "outputs": [
    {
     "data": {
      "text/plain": [
       "{6}"
      ]
     },
     "execution_count": 11,
     "metadata": {},
     "output_type": "execute_result"
    }
   ],
   "source": [
    "# 用 difference 方法\n",
    "a.difference(b)"
   ]
  },
  {
   "cell_type": "code",
   "execution_count": 12,
   "id": "67f391b7-4660-4115-9c3c-3ce90c871b57",
   "metadata": {},
   "outputs": [
    {
     "data": {
      "text/plain": [
       "{9}"
      ]
     },
     "execution_count": 12,
     "metadata": {},
     "output_type": "execute_result"
    }
   ],
   "source": [
    "b.difference(a)"
   ]
  },
  {
   "cell_type": "markdown",
   "id": "5f681b1a-17ed-4aa6-b3b8-a6b3ddccf0d6",
   "metadata": {},
   "source": [
    "## 36. 从一个序列中随机返回 n 个不同值的元素"
   ]
  },
  {
   "cell_type": "code",
   "execution_count": 13,
   "id": "5332ed1a-f256-4510-bf89-aa32cd61cf26",
   "metadata": {},
   "outputs": [],
   "source": [
    "import random"
   ]
  },
  {
   "cell_type": "code",
   "execution_count": 14,
   "id": "f2bc1146-a2d9-469a-8a73-14444cd703ca",
   "metadata": {},
   "outputs": [
    {
     "data": {
      "text/plain": [
       "[5, 30]"
      ]
     },
     "execution_count": 14,
     "metadata": {},
     "output_type": "execute_result"
    }
   ],
   "source": [
    "t = (2023, 5, 7, 16, 30)\n",
    "random.sample(t,2)"
   ]
  },
  {
   "cell_type": "code",
   "execution_count": 21,
   "id": "00aa1253-2b79-46b1-a002-2b66fbc097bd",
   "metadata": {},
   "outputs": [
    {
     "data": {
      "text/plain": [
       "16"
      ]
     },
     "execution_count": 21,
     "metadata": {},
     "output_type": "execute_result"
    }
   ],
   "source": [
    "random.choice(t)"
   ]
  },
  {
   "cell_type": "markdown",
   "id": "c84dc673-1361-4b17-bbb4-1dffe3f2363a",
   "metadata": {},
   "source": [
    "# 37. 怎么生成两个数之间的随机实数"
   ]
  },
  {
   "cell_type": "code",
   "execution_count": 22,
   "id": "df736510-0ded-4d66-bb49-19efd9110a88",
   "metadata": {},
   "outputs": [
    {
     "data": {
      "text/plain": [
       "17.387653714314645"
      ]
     },
     "execution_count": 22,
     "metadata": {},
     "output_type": "execute_result"
    }
   ],
   "source": [
    "# 用 random 中的 uniform 方法\n",
    "random.uniform(10,20)"
   ]
  },
  {
   "cell_type": "markdown",
   "id": "8d6be1fd-e94b-4cb6-b6a4-75f12af5205e",
   "metadata": {},
   "source": [
    "## 38.怎么在等差数列中随机选择一个数"
   ]
  },
  {
   "cell_type": "code",
   "execution_count": 23,
   "id": "8e667916-bfdf-4f55-8475-f25ee2393475",
   "metadata": {},
   "outputs": [
    {
     "data": {
      "text/plain": [
       "10"
      ]
     },
     "execution_count": 23,
     "metadata": {},
     "output_type": "execute_result"
    }
   ],
   "source": [
    "# 用 random 中的 randrange 方法\n",
    "random.randrange(0,100,10) # 不包含结束位置的值"
   ]
  },
  {
   "cell_type": "code",
   "execution_count": 25,
   "id": "6f0a6c61-2229-4c01-aab3-6dc9d4ebdd55",
   "metadata": {},
   "outputs": [
    {
     "data": {
      "text/plain": [
       "95"
      ]
     },
     "execution_count": 25,
     "metadata": {},
     "output_type": "execute_result"
    }
   ],
   "source": [
    "random.randint(0,100) # 包含起始点的值"
   ]
  },
  {
   "cell_type": "markdown",
   "id": "32818785-e753-4174-b9b9-e483d147df92",
   "metadata": {},
   "source": [
    "## 39. 怎么在文件里写入字符？"
   ]
  },
  {
   "cell_type": "code",
   "execution_count": 33,
   "id": "64fd4771-c08c-46b8-8c37-fbf4e39b7b4f",
   "metadata": {},
   "outputs": [
    {
     "data": {
      "text/plain": [
       "12"
      ]
     },
     "execution_count": 33,
     "metadata": {},
     "output_type": "execute_result"
    }
   ],
   "source": [
    "with open('a.txt','w') as f:\n",
    "    f.write('hello world!')\n",
    "    f.close()\n",
    "    "
   ]
  },
  {
   "cell_type": "markdown",
   "id": "f58eb12e-2115-45ef-a3a8-4f153c29c36b",
   "metadata": {},
   "source": [
    "## 40. 怎么读取文件内容？"
   ]
  },
  {
   "cell_type": "code",
   "execution_count": 32,
   "id": "56a0464b-b4b7-41f0-9fd6-30c5a2ee7cd6",
   "metadata": {},
   "outputs": [
    {
     "data": {
      "text/plain": [
       "'hello world!'"
      ]
     },
     "execution_count": 32,
     "metadata": {},
     "output_type": "execute_result"
    }
   ],
   "source": [
    "with open('a.txt','r') as f:\n",
    "    f.read()\n",
    "    f.close()"
   ]
  },
  {
   "cell_type": "markdown",
   "id": "9378b604-99e1-486d-bba9-e4d3b99d9444",
   "metadata": {},
   "source": [
    "## 41. 怎么把程序打包成 exe 文件\n",
    "用 Setuptools 里的 py2exe 库"
   ]
  },
  {
   "cell_type": "markdown",
   "id": "7bc16b08-99d6-43ec-b804-168b82410eac",
   "metadata": {},
   "source": [
    "## 42. 怎么获取路径下所有目录名称？\n",
    "用 sys 下的 path 方法，返回的是目录名称的字符串列表"
   ]
  },
  {
   "cell_type": "code",
   "execution_count": 38,
   "id": "27018f2b-754b-4c6d-b496-e5040042d4d6",
   "metadata": {},
   "outputs": [
    {
     "data": {
      "text/plain": [
       "['D:\\\\Backup\\\\github\\\\LearnPython',\n",
       " 'C:\\\\ProgramData\\\\Anaconda3\\\\python39.zip',\n",
       " 'C:\\\\ProgramData\\\\Anaconda3\\\\DLLs',\n",
       " 'C:\\\\ProgramData\\\\Anaconda3\\\\lib',\n",
       " 'C:\\\\ProgramData\\\\Anaconda3',\n",
       " '',\n",
       " 'C:\\\\Users\\\\Administrator\\\\AppData\\\\Roaming\\\\Python\\\\Python39\\\\site-packages',\n",
       " 'C:\\\\ProgramData\\\\Anaconda3\\\\lib\\\\site-packages',\n",
       " 'C:\\\\ProgramData\\\\Anaconda3\\\\lib\\\\site-packages\\\\locket-0.2.1-py3.9.egg',\n",
       " 'C:\\\\ProgramData\\\\Anaconda3\\\\lib\\\\site-packages\\\\win32',\n",
       " 'C:\\\\ProgramData\\\\Anaconda3\\\\lib\\\\site-packages\\\\win32\\\\lib',\n",
       " 'C:\\\\ProgramData\\\\Anaconda3\\\\lib\\\\site-packages\\\\Pythonwin',\n",
       " 'C:\\\\ProgramData\\\\Anaconda3\\\\lib\\\\site-packages\\\\IPython\\\\extensions',\n",
       " 'C:\\\\Users\\\\Administrator\\\\.ipython']"
      ]
     },
     "execution_count": 38,
     "metadata": {},
     "output_type": "execute_result"
    }
   ],
   "source": [
    "import sys\n",
    "sys.path"
   ]
  },
  {
   "cell_type": "markdown",
   "id": "da9b3413-72e2-4f7b-9194-84d2bfce5a64",
   "metadata": {},
   "source": [
    "## 43. Python 环境下怎么执行操作系统命令？"
   ]
  },
  {
   "cell_type": "code",
   "execution_count": 39,
   "id": "81d9dc4a-7385-4226-9388-16f1c49fd576",
   "metadata": {},
   "outputs": [
    {
     "data": {
      "text/plain": [
       "0"
      ]
     },
     "execution_count": 39,
     "metadata": {},
     "output_type": "execute_result"
    }
   ],
   "source": [
    "# 用 os 模块下的 system 方法\n",
    "import os\n",
    "os.system('cd D:\\\\Backup\\\\github\\\\LearnPython && mkdir aaa.txt')"
   ]
  },
  {
   "cell_type": "markdown",
   "id": "e70897c0-18c8-4ac1-afd6-5738e57d517a",
   "metadata": {},
   "source": [
    "## 44. 怎么将当前时间转为字符串？"
   ]
  },
  {
   "cell_type": "code",
   "execution_count": 40,
   "id": "8e4b3810-f1ec-4437-b619-ef4f01502765",
   "metadata": {},
   "outputs": [
    {
     "data": {
      "text/plain": [
       "'Sun May  7 16:47:30 2023'"
      ]
     },
     "execution_count": 40,
     "metadata": {},
     "output_type": "execute_result"
    }
   ],
   "source": [
    "# 用 time 模块里的 asctime 方法\n",
    "import time\n",
    "time.asctime()"
   ]
  },
  {
   "cell_type": "markdown",
   "id": "d973f3a0-f50e-4247-a3ff-f1b84e14aff7",
   "metadata": {},
   "source": [
    "## 45. 怎么将秒数转为时间数组\n",
    "用 time 模块里的 localtime 方法"
   ]
  },
  {
   "cell_type": "code",
   "execution_count": 42,
   "id": "54fcb82f-99f2-4a5b-bda3-880b7b44ef51",
   "metadata": {},
   "outputs": [
    {
     "data": {
      "text/plain": [
       "time.struct_time(tm_year=1970, tm_mon=2, tm_mday=12, tm_hour=0, tm_min=0, tm_sec=0, tm_wday=3, tm_yday=43, tm_isdst=0)"
      ]
     },
     "execution_count": 42,
     "metadata": {},
     "output_type": "execute_result"
    }
   ],
   "source": [
    "time.localtime(3600000)"
   ]
  },
  {
   "cell_type": "markdown",
   "id": "58719e94-824b-49cf-ba99-f9ab548508c7",
   "metadata": {},
   "source": [
    "## 46. 将时间元组转换为从新纪元后的秒数\n",
    "用 time 模块里的 mktime 方法"
   ]
  },
  {
   "cell_type": "code",
   "execution_count": 46,
   "id": "9ffa5d56-f7b5-4adb-a943-48d852234a38",
   "metadata": {},
   "outputs": [
    {
     "data": {
      "text/plain": [
       "1683449396.0"
      ]
     },
     "execution_count": 46,
     "metadata": {},
     "output_type": "execute_result"
    },
    {
     "data": {
      "text/plain": [
       "'Sun May  7 16:51:16 2023'"
      ]
     },
     "execution_count": 46,
     "metadata": {},
     "output_type": "execute_result"
    }
   ],
   "source": [
    "time.mktime((2023,5,7,16,49,56,4,21,0))\n",
    "time.asctime()"
   ]
  },
  {
   "cell_type": "markdown",
   "id": "edf30d4d-06f9-4ea3-a17c-cdcf3931de4b",
   "metadata": {},
   "source": [
    "## 47. 怎么将字符串转为时间元组\n",
    "用 time 模块里的 strptime 方法"
   ]
  },
  {
   "cell_type": "code",
   "execution_count": 47,
   "id": "18a5856b-a5f7-4e98-8439-f83fd4569ac9",
   "metadata": {},
   "outputs": [
    {
     "data": {
      "text/plain": [
       "time.struct_time(tm_year=2023, tm_mon=5, tm_mday=7, tm_hour=16, tm_min=51, tm_sec=16, tm_wday=6, tm_yday=127, tm_isdst=-1)"
      ]
     },
     "execution_count": 47,
     "metadata": {},
     "output_type": "execute_result"
    }
   ],
   "source": [
    "time.strptime('Sun May 7 16:51:16 2023')"
   ]
  },
  {
   "cell_type": "markdown",
   "id": "329305f1-55f2-4607-a7b2-33b324bfce00",
   "metadata": {},
   "source": [
    "## 48. 怎么随机打乱列表的顺序\n",
    "用 random 模块里的 shuffle 方法"
   ]
  },
  {
   "cell_type": "code",
   "execution_count": 48,
   "id": "1404e6c0-6406-4f82-9ea4-76f8238448ea",
   "metadata": {},
   "outputs": [],
   "source": [
    "import random"
   ]
  },
  {
   "cell_type": "code",
   "execution_count": 50,
   "id": "e36cd3fc-1ab9-45ed-8428-285b26d82b69",
   "metadata": {},
   "outputs": [],
   "source": [
    "t = list(range(20))"
   ]
  },
  {
   "cell_type": "code",
   "execution_count": 51,
   "id": "b3df7f56-1dc2-4583-95be-f198e5ff30a1",
   "metadata": {},
   "outputs": [
    {
     "data": {
      "text/plain": [
       "[0, 1, 2, 3, 4, 5, 6, 7, 8, 9, 10, 11, 12, 13, 14, 15, 16, 17, 18, 19]"
      ]
     },
     "execution_count": 51,
     "metadata": {},
     "output_type": "execute_result"
    }
   ],
   "source": [
    "t"
   ]
  },
  {
   "cell_type": "code",
   "execution_count": 52,
   "id": "13434f9e-ba61-4e38-90b1-d4cbd26a2dac",
   "metadata": {},
   "outputs": [],
   "source": [
    "random.shuffle(t)"
   ]
  },
  {
   "cell_type": "code",
   "execution_count": 53,
   "id": "9ccf4cb6-5cca-49a7-b935-2a30e245457f",
   "metadata": {},
   "outputs": [
    {
     "data": {
      "text/plain": [
       "[4, 18, 15, 7, 13, 8, 6, 2, 3, 10, 5, 12, 11, 1, 14, 0, 16, 19, 9, 17]"
      ]
     },
     "execution_count": 53,
     "metadata": {},
     "output_type": "execute_result"
    }
   ],
   "source": [
    "t"
   ]
  },
  {
   "cell_type": "markdown",
   "id": "9a3e603b-7e7b-4b56-b41d-041046c2cb73",
   "metadata": {},
   "source": [
    "# 进阶练习题"
   ]
  },
  {
   "cell_type": "markdown",
   "id": "4e39a512-cf02-4102-9849-f6fdb2d3f125",
   "metadata": {},
   "source": [
    "## 49. 怎么用for循环实现把字符串变成Unicode码位的列表"
   ]
  },
  {
   "cell_type": "code",
   "execution_count": 54,
   "id": "de0e2ef2-f3f5-446a-9999-0db5a5b26e78",
   "metadata": {},
   "outputs": [],
   "source": [
    "st = '!@#$%^&*'"
   ]
  },
  {
   "cell_type": "code",
   "execution_count": 55,
   "id": "0d32b36c-7b8a-4466-a30a-afdc6c98728b",
   "metadata": {},
   "outputs": [],
   "source": [
    "code = []"
   ]
  },
  {
   "cell_type": "code",
   "execution_count": 56,
   "id": "80242d2e-9e25-4ed8-8e9b-4c655bc669fe",
   "metadata": {},
   "outputs": [],
   "source": [
    "for s in st:\n",
    "    code.append(ord(s))"
   ]
  },
  {
   "cell_type": "code",
   "execution_count": 57,
   "id": "175c4e5c-f9a5-4526-a747-56160cba4421",
   "metadata": {},
   "outputs": [
    {
     "data": {
      "text/plain": [
       "[33, 64, 35, 36, 37, 94, 38, 42]"
      ]
     },
     "execution_count": 57,
     "metadata": {},
     "output_type": "execute_result"
    }
   ],
   "source": [
    "code"
   ]
  },
  {
   "cell_type": "markdown",
   "id": "1327067e-aac6-481c-95c2-b587605080e9",
   "metadata": {},
   "source": [
    "## 50. 怎么用列表推导式实现把字符串变成Unicode码位的列表"
   ]
  },
  {
   "cell_type": "code",
   "execution_count": 58,
   "id": "56b4b814-6872-4335-bb4b-f0f083c378c5",
   "metadata": {},
   "outputs": [
    {
     "data": {
      "text/plain": [
       "[33, 64, 35, 36, 37, 94, 38, 42]"
      ]
     },
     "execution_count": 58,
     "metadata": {},
     "output_type": "execute_result"
    }
   ],
   "source": [
    "st = '!@#$%^&*'\n",
    "codes = [ord(s) for s in st]\n",
    "codes"
   ]
  },
  {
   "cell_type": "markdown",
   "id": "802e439c-c15c-484c-a26e-58ceaf6c6832",
   "metadata": {},
   "source": [
    "## 51. 打印出两个列表的笛卡尔积"
   ]
  },
  {
   "cell_type": "code",
   "execution_count": 59,
   "id": "ad389077-b5b8-44e1-8f51-9456342cc18b",
   "metadata": {},
   "outputs": [],
   "source": [
    "# :使用生成器表达式产生笛卡尔积，可以帮忙省掉运行 for 循环的开销。\n",
    "colors = ['blacks', 'white']\n",
    "sizes = ['S', 'M', 'L']\n"
   ]
  },
  {
   "cell_type": "code",
   "execution_count": 68,
   "id": "1a83f315-59ec-4f3d-a9c7-ea924d22cd4e",
   "metadata": {},
   "outputs": [
    {
     "data": {
      "text/plain": [
       "['blacks S', 'blacks M', 'blacks L', 'white S', 'white M', 'white L']"
      ]
     },
     "execution_count": 68,
     "metadata": {},
     "output_type": "execute_result"
    }
   ],
   "source": [
    "['%s %s'%(c,s) for c in colors for s in sizes]"
   ]
  },
  {
   "cell_type": "code",
   "execution_count": 70,
   "id": "c9f442fc-244b-48bb-ab44-a49256582a0f",
   "metadata": {},
   "outputs": [
    {
     "data": {
      "text/plain": [
       "[('blacks', 'S'),\n",
       " ('blacks', 'M'),\n",
       " ('blacks', 'L'),\n",
       " ('white', 'S'),\n",
       " ('white', 'M'),\n",
       " ('white', 'L')]"
      ]
     },
     "execution_count": 70,
     "metadata": {},
     "output_type": "execute_result"
    }
   ],
   "source": [
    "# 使用 itertools 里的 product 生成器函数。\n",
    "import itertools\n",
    "list(itertools.product(colors,sizes))"
   ]
  },
  {
   "cell_type": "markdown",
   "id": "c49d933f-e4ce-4df0-8255-c186e8d96fe7",
   "metadata": {},
   "source": [
    "## 52. 可迭代对象拆包时，怎么赋值给占位符\n",
    "我们经常用 for 循环提取元组里的元素，对于我们不想接收的元素，我们可以用占位符 _ 接收。"
   ]
  },
  {
   "cell_type": "code",
   "execution_count": 71,
   "id": "83bceb9b-1e66-4e6e-84d0-0ffcf6cf10ea",
   "metadata": {},
   "outputs": [
    {
     "name": "stdout",
     "output_type": "stream",
     "text": [
      "Kobe\n",
      "James\n",
      "Iverson\n"
     ]
    }
   ],
   "source": [
    "player_infos = [('Kobe','24'),('James','23'),('Iverson', '3')]\n",
    "for players, _ in player_infos:\n",
    "    print(players)"
   ]
  },
  {
   "cell_type": "markdown",
   "id": "5138932c-62b6-48d2-98ef-1da4b1ecef18",
   "metadata": {},
   "source": [
    "## 53. Python3 中，用什么方式接收不确定值或参数\n",
    "用 *args 的方式，*args 位置可以在任意位置。"
   ]
  },
  {
   "cell_type": "code",
   "execution_count": 74,
   "id": "68713bd3-91b0-4538-beb1-aed0ea53f8f1",
   "metadata": {},
   "outputs": [
    {
     "data": {
      "text/plain": [
       "(0, 1, [2, 3, 4, 5, 6, 7])"
      ]
     },
     "execution_count": 74,
     "metadata": {},
     "output_type": "execute_result"
    }
   ],
   "source": [
    "a, b, *c = range(8)\n",
    "a,b,c"
   ]
  },
  {
   "cell_type": "code",
   "execution_count": 75,
   "id": "797c343f-3efb-479e-96e7-d96f310ffb14",
   "metadata": {},
   "outputs": [
    {
     "data": {
      "text/plain": [
       "(0, [1, 2], 3, 4)"
      ]
     },
     "execution_count": 75,
     "metadata": {},
     "output_type": "execute_result"
    }
   ],
   "source": [
    "a, *b, c, d = range(5)\n",
    "a, b, c, d"
   ]
  },
  {
   "cell_type": "code",
   "execution_count": 77,
   "id": "8efb1841-4b4f-482e-9452-ab898e41463d",
   "metadata": {},
   "outputs": [
    {
     "data": {
      "text/plain": [
       "([0, 1], 2, 3, 4)"
      ]
     },
     "execution_count": 77,
     "metadata": {},
     "output_type": "execute_result"
    }
   ],
   "source": [
    "*a, b, c, d = range(5)\n",
    "a, b, c, d"
   ]
  },
  {
   "cell_type": "markdown",
   "id": "00d22a27-141f-40f4-bbf4-077b56702d0a",
   "metadata": {},
   "source": [
    "## 54. 用切片将对象倒序"
   ]
  },
  {
   "cell_type": "code",
   "execution_count": 78,
   "id": "d6b76cc3-ee6b-4525-964f-b4e3fa5ab02b",
   "metadata": {},
   "outputs": [
    {
     "data": {
      "text/plain": [
       "'llabteksab'"
      ]
     },
     "execution_count": 78,
     "metadata": {},
     "output_type": "execute_result"
    }
   ],
   "source": [
    "s = 'basketball'\n",
    "s[::-1]"
   ]
  },
  {
   "cell_type": "markdown",
   "id": "1e632a8d-92fe-40dc-9c53-286612806bc0",
   "metadata": {},
   "source": [
    "## 55. 怎么查看列表的 ID"
   ]
  },
  {
   "cell_type": "code",
   "execution_count": 79,
   "id": "4b7f567b-3840-45f1-ad12-330b7fd9056a",
   "metadata": {},
   "outputs": [
    {
     "data": {
      "text/plain": [
       "1286260527552"
      ]
     },
     "execution_count": 79,
     "metadata": {},
     "output_type": "execute_result"
    }
   ],
   "source": [
    "l = [1, 2, 3]\n",
    "id(l)"
   ]
  },
  {
   "cell_type": "markdown",
   "id": "95a0475d-3960-4fa8-8257-4c255bcffc82",
   "metadata": {},
   "source": [
    "## 56. 可变序列用*=（就地乘法）后，会创建新的序列吗？\n",
    "不会，可变序列用*=（就地乘法）后，不会创建新的序列，新元素追加到老元素上，以列表为例，我们看下新老列表的id，相等的。"
   ]
  },
  {
   "cell_type": "code",
   "execution_count": 80,
   "id": "262c9a06-0bd4-48d8-9752-d44c461b94ae",
   "metadata": {},
   "outputs": [],
   "source": [
    "l *= 3"
   ]
  },
  {
   "cell_type": "code",
   "execution_count": 81,
   "id": "e02364d8-9590-43b0-ac51-e1e000d0f6be",
   "metadata": {},
   "outputs": [
    {
     "data": {
      "text/plain": [
       "[1, 2, 3, 1, 2, 3, 1, 2, 3]"
      ]
     },
     "execution_count": 81,
     "metadata": {},
     "output_type": "execute_result"
    }
   ],
   "source": [
    "l"
   ]
  },
  {
   "cell_type": "code",
   "execution_count": 82,
   "id": "65ab3d3c-df8e-4602-be80-67a4b51645ba",
   "metadata": {},
   "outputs": [
    {
     "data": {
      "text/plain": [
       "1286260527552"
      ]
     },
     "execution_count": 82,
     "metadata": {},
     "output_type": "execute_result"
    }
   ],
   "source": [
    "id(l)"
   ]
  },
  {
   "cell_type": "markdown",
   "id": "e07d92ab-1c60-487e-90fe-ac4c245f764c",
   "metadata": {},
   "source": [
    "## 57. 不可变序列用*=（就地乘法）后，会创建新的序列吗？\n",
    "会，不可变序列用*=（就地乘法）后，会创建新的序列，以元组为例，我们看下新老元组的id，是不同的。"
   ]
  },
  {
   "cell_type": "code",
   "execution_count": 83,
   "id": "fc80f993-3d7f-44a9-b19f-1fc8b8964840",
   "metadata": {},
   "outputs": [
    {
     "data": {
      "text/plain": [
       "1286261271104"
      ]
     },
     "execution_count": 83,
     "metadata": {},
     "output_type": "execute_result"
    }
   ],
   "source": [
    "t = (1, 2, 3)\n",
    "id(t)"
   ]
  },
  {
   "cell_type": "code",
   "execution_count": 84,
   "id": "a68bdec9-d5ec-4498-92d2-1fa8cccc602c",
   "metadata": {},
   "outputs": [],
   "source": [
    "t *= 3"
   ]
  },
  {
   "cell_type": "code",
   "execution_count": 85,
   "id": "e06a2ffa-fed8-49bb-8c12-d3bd28e92053",
   "metadata": {},
   "outputs": [
    {
     "data": {
      "text/plain": [
       "(1, 2, 3, 1, 2, 3, 1, 2, 3)"
      ]
     },
     "execution_count": 85,
     "metadata": {},
     "output_type": "execute_result"
    }
   ],
   "source": [
    "t"
   ]
  },
  {
   "cell_type": "code",
   "execution_count": 86,
   "id": "adc9307b-025a-46ef-81b9-9536a0b72d49",
   "metadata": {},
   "outputs": [
    {
     "data": {
      "text/plain": [
       "1286262474176"
      ]
     },
     "execution_count": 86,
     "metadata": {},
     "output_type": "execute_result"
    }
   ],
   "source": [
    "id(t)"
   ]
  },
  {
   "cell_type": "markdown",
   "id": "f42a5cd8-cd4d-4279-b7d7-38979e39ccef",
   "metadata": {},
   "source": [
    "所以，对不可变序列进行重复拼接操作的话，效率会很低，因为每次都有一个新对象，而解释器需要把原来对象中的元素先复制到新的对象里，然后再追加新的元素。"
   ]
  },
  {
   "cell_type": "markdown",
   "id": "76b41a7a-a497-4a3e-a5d9-e03bde4ba77c",
   "metadata": {},
   "source": [
    "## 58. 关于+=的一道谜题"
   ]
  },
  {
   "cell_type": "code",
   "execution_count": 87,
   "id": "79c474a5-c347-4a7d-95c1-bdcd217cf49e",
   "metadata": {},
   "outputs": [
    {
     "ename": "TypeError",
     "evalue": "'tuple' object does not support item assignment",
     "output_type": "error",
     "traceback": [
      "\u001b[1;31m---------------------------------------------------------------------------\u001b[0m",
      "\u001b[1;31mTypeError\u001b[0m                                 Traceback (most recent call last)",
      "\u001b[1;32m~\\AppData\\Local\\Temp/ipykernel_2612/1891221013.py\u001b[0m in \u001b[0;36m<module>\u001b[1;34m\u001b[0m\n\u001b[0;32m      1\u001b[0m \u001b[0mt\u001b[0m \u001b[1;33m=\u001b[0m \u001b[1;33m(\u001b[0m\u001b[1;36m1\u001b[0m\u001b[1;33m,\u001b[0m \u001b[1;36m2\u001b[0m\u001b[1;33m,\u001b[0m \u001b[1;33m[\u001b[0m\u001b[1;36m30\u001b[0m\u001b[1;33m,\u001b[0m \u001b[1;36m40\u001b[0m\u001b[1;33m]\u001b[0m\u001b[1;33m)\u001b[0m\u001b[1;33m\u001b[0m\u001b[1;33m\u001b[0m\u001b[0m\n\u001b[1;32m----> 2\u001b[1;33m \u001b[0mt\u001b[0m\u001b[1;33m[\u001b[0m\u001b[1;36m2\u001b[0m\u001b[1;33m]\u001b[0m \u001b[1;33m+=\u001b[0m \u001b[1;33m[\u001b[0m\u001b[1;36m50\u001b[0m\u001b[1;33m,\u001b[0m \u001b[1;36m60\u001b[0m\u001b[1;33m]\u001b[0m\u001b[1;33m\u001b[0m\u001b[1;33m\u001b[0m\u001b[0m\n\u001b[0m",
      "\u001b[1;31mTypeError\u001b[0m: 'tuple' object does not support item assignment"
     ]
    }
   ],
   "source": [
    "t = (1, 2, [30, 40])\n",
    "t[2] += [50, 60]"
   ]
  },
  {
   "cell_type": "code",
   "execution_count": 88,
   "id": "86734be5-049f-4d27-a13c-ea8a19b55aae",
   "metadata": {},
   "outputs": [
    {
     "data": {
      "text/plain": [
       "(1, 2, [30, 40, 50, 60])"
      ]
     },
     "execution_count": 88,
     "metadata": {},
     "output_type": "execute_result"
    }
   ],
   "source": [
    "t"
   ]
  },
  {
   "cell_type": "markdown",
   "id": "261e8311-fbdd-4905-b7cd-ae25ab230007",
   "metadata": {},
   "source": [
    "## 59. sort() 和 sorted() 区别\n",
    "通过 Python Tutor 工具我们可以看到，sort() 会就地在原序列上排序，sorted() 新建了一个新的序列。\n",
    "list.sort方法会就地排序列表，也就是说不会把原列表复制一份。这也是这个方法的返回值是None的原因，提醒你本方法不会新建一个列表。在这种情况下返回None其实是Python的一个惯例：如果一个函数或者方法对对象进行的是就地改动，那它就应该返回None，好让调用者知道传入的参数发生了变动，而且并未产生新的对象。"
   ]
  },
  {
   "cell_type": "code",
   "execution_count": 89,
   "id": "aa2091f6-66e2-45ce-bec3-41225cacad50",
   "metadata": {},
   "outputs": [],
   "source": [
    "l = [1, 9, 5, 8]\n",
    "l.sort()"
   ]
  },
  {
   "cell_type": "code",
   "execution_count": 90,
   "id": "3ac7b46a-93a6-4629-ba2d-3a87624eeb7b",
   "metadata": {},
   "outputs": [
    {
     "data": {
      "text/plain": [
       "[1, 5, 8, 9]"
      ]
     },
     "execution_count": 90,
     "metadata": {},
     "output_type": "execute_result"
    }
   ],
   "source": [
    "l"
   ]
  },
  {
   "cell_type": "code",
   "execution_count": 92,
   "id": "a11776f8-9957-410a-9dcd-9bc17754054b",
   "metadata": {},
   "outputs": [
    {
     "data": {
      "text/plain": [
       "[1, 5, 8, 9]"
      ]
     },
     "execution_count": 92,
     "metadata": {},
     "output_type": "execute_result"
    }
   ],
   "source": [
    "l = [1, 9, 5, 8]\n",
    "sorted(l)"
   ]
  },
  {
   "cell_type": "code",
   "execution_count": 93,
   "id": "8ec23655-57ec-4b7f-adda-9bd13b28b11e",
   "metadata": {},
   "outputs": [
    {
     "data": {
      "text/plain": [
       "[1, 9, 5, 8]"
      ]
     },
     "execution_count": 93,
     "metadata": {},
     "output_type": "execute_result"
    }
   ],
   "source": [
    "l"
   ]
  },
  {
   "cell_type": "markdown",
   "id": "02307dde-9392-42c7-b01e-781c49879a4f",
   "metadata": {},
   "source": [
    "## 60. 怎么通过 reverse 参数对序列进行降序排列"
   ]
  },
  {
   "cell_type": "code",
   "execution_count": 96,
   "id": "538c411e-7ca0-4baf-9c15-1024c5d2ee77",
   "metadata": {},
   "outputs": [
    {
     "data": {
      "text/plain": [
       "[9, 8, 5, 1]"
      ]
     },
     "execution_count": 96,
     "metadata": {},
     "output_type": "execute_result"
    }
   ],
   "source": [
    "l = [1, 9, 5, 8]\n",
    "sorted(l, reverse= True)"
   ]
  },
  {
   "cell_type": "code",
   "execution_count": 97,
   "id": "24e4ddee-2793-40de-ac5e-070b0e631629",
   "metadata": {},
   "outputs": [],
   "source": [
    "l.reverse()"
   ]
  },
  {
   "cell_type": "code",
   "execution_count": 98,
   "id": "53cc09db-f339-4ee9-b2e0-b55d495b7110",
   "metadata": {},
   "outputs": [
    {
     "data": {
      "text/plain": [
       "[8, 5, 9, 1]"
      ]
     },
     "execution_count": 98,
     "metadata": {},
     "output_type": "execute_result"
    }
   ],
   "source": [
    "l"
   ]
  },
  {
   "cell_type": "markdown",
   "id": "6ac18e5a-e855-4fb5-bc39-054fb72be1c4",
   "metadata": {},
   "source": [
    "## 61. numpy 怎么把一维数组变成二维数组"
   ]
  },
  {
   "cell_type": "code",
   "execution_count": null,
   "id": "e48d9dcd-e450-4bd0-842e-c208761c758b",
   "metadata": {},
   "outputs": [],
   "source": []
  }
 ],
 "metadata": {
  "kernelspec": {
   "display_name": "Python 3 (ipykernel)",
   "language": "python",
   "name": "python3"
  },
  "language_info": {
   "codemirror_mode": {
    "name": "ipython",
    "version": 3
   },
   "file_extension": ".py",
   "mimetype": "text/x-python",
   "name": "python",
   "nbconvert_exporter": "python",
   "pygments_lexer": "ipython3",
   "version": "3.9.7"
  }
 },
 "nbformat": 4,
 "nbformat_minor": 5
}
