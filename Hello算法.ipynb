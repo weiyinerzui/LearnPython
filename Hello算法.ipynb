{
 "cells": [
  {
   "cell_type": "code",
   "execution_count": 3,
   "id": "1f2c8975-fdc2-4a2a-95cb-f84e6e33e0fa",
   "metadata": {},
   "outputs": [],
   "source": [
    "# 设置多行输出显示\n",
    "from IPython.core.interactiveshell import InteractiveShell\n",
    "InteractiveShell.ast_node_interactivity = 'all'"
   ]
  },
  {
   "cell_type": "markdown",
   "id": "ff8a2b1d-392d-4d0a-8a62-417951661fe9",
   "metadata": {},
   "source": [
    "## 9. 堆"
   ]
  },
  {
   "cell_type": "code",
   "execution_count": 15,
   "id": "4b5ed2ba-d536-45fd-b23b-ee434f2f7eff",
   "metadata": {},
   "outputs": [
    {
     "data": {
      "text/plain": [
       "0"
      ]
     },
     "execution_count": 15,
     "metadata": {},
     "output_type": "execute_result"
    },
    {
     "data": {
      "text/plain": [
       "[1, 2, 3, 5, 4]"
      ]
     },
     "execution_count": 15,
     "metadata": {},
     "output_type": "execute_result"
    }
   ],
   "source": [
    "import heapq\n",
    "# 初始化小顶堆\n",
    "min_heap, flag = [] , 1\n",
    "# 初始化大顶堆\n",
    "max_heap, flag = [], -1\n",
    "\n",
    "# Python 的 heapq 模块默认实现小顶堆\n",
    "# 考虑将“元素取负”后再入堆，这样就可以将大小关系颠倒，从而实现大顶堆\n",
    "# 在本示例中，flag = 1 时对应小顶堆，flag = -1 时对应大顶堆\n",
    "\n",
    "# 元素入堆\n",
    "heapq.heappush(max_heap, flag * 1)\n",
    "heapq.heappush(max_heap, flag * 3)\n",
    "heapq.heappush(max_heap, flag * 2)\n",
    "heapq.heappush(max_heap, flag * 5)\n",
    "heapq.heappush(max_heap, flag * 4)\n",
    "\n",
    "# 获取堆顶元素\n",
    "peek: int = flag * max_heap[0]\n",
    "\n",
    "\n",
    "# 堆顶元素出堆\n",
    "# 出堆元素会形成一个从大到小的序列\n",
    "\n",
    "val = flag * heapq.heappop(max_heap)\n",
    "val = flag * heapq.heappop(max_heap) \n",
    "val = flag * heapq.heappop(max_heap)\n",
    "val = flag * heapq.heappop(max_heap)\n",
    "val = flag * heapq.heappop(max_heap)\n",
    "\n",
    "# 获取堆大小\n",
    "size: int = len(max_heap)\n",
    "size\n",
    "# 判断堆是否为空\n",
    "is_empty: bool = not max_heap\n",
    "\n",
    "# 输入列表并建堆\n",
    "min_heap:list[int] = [2, 1,3, 5, 4]\n",
    "heapq.heapify(min_heap)\n",
    "min_heap"
   ]
  },
  {
   "cell_type": "code",
   "execution_count": 9,
   "id": "c29ba4f1-4df0-4fb0-a6a5-3b3bff81cebc",
   "metadata": {},
   "outputs": [
    {
     "data": {
      "text/plain": [
       "True"
      ]
     },
     "execution_count": 9,
     "metadata": {},
     "output_type": "execute_result"
    }
   ],
   "source": [
    "not max_heap"
   ]
  },
  {
   "cell_type": "code",
   "execution_count": 16,
   "id": "c39a0a8f-9828-4c57-88fd-9c3dbd273f20",
   "metadata": {},
   "outputs": [
    {
     "ename": "AttributeError",
     "evalue": "'NoneType' object has no attribute 'text'",
     "output_type": "error",
     "traceback": [
      "\u001b[1;31m---------------------------------------------------------------------------\u001b[0m",
      "\u001b[1;31mAttributeError\u001b[0m                            Traceback (most recent call last)",
      "\u001b[1;32m~\\AppData\\Local\\Temp/ipykernel_11560/2460149773.py\u001b[0m in \u001b[0;36m<module>\u001b[1;34m\u001b[0m\n\u001b[0;32m      5\u001b[0m \u001b[0mresponse\u001b[0m \u001b[1;33m=\u001b[0m \u001b[0mrequests\u001b[0m\u001b[1;33m.\u001b[0m\u001b[0mget\u001b[0m\u001b[1;33m(\u001b[0m\u001b[0murl\u001b[0m\u001b[1;33m)\u001b[0m\u001b[1;33m\u001b[0m\u001b[1;33m\u001b[0m\u001b[0m\n\u001b[0;32m      6\u001b[0m \u001b[0msoup\u001b[0m \u001b[1;33m=\u001b[0m \u001b[0mBeautifulSoup\u001b[0m\u001b[1;33m(\u001b[0m\u001b[0mresponse\u001b[0m\u001b[1;33m.\u001b[0m\u001b[0mtext\u001b[0m\u001b[1;33m,\u001b[0m \u001b[1;34m'html.parser'\u001b[0m\u001b[1;33m)\u001b[0m\u001b[1;33m\u001b[0m\u001b[1;33m\u001b[0m\u001b[0m\n\u001b[1;32m----> 7\u001b[1;33m \u001b[0mcontent\u001b[0m \u001b[1;33m=\u001b[0m \u001b[0msoup\u001b[0m\u001b[1;33m.\u001b[0m\u001b[0mfind\u001b[0m\u001b[1;33m(\u001b[0m\u001b[1;34m'div'\u001b[0m\u001b[1;33m,\u001b[0m \u001b[1;33m{\u001b[0m\u001b[1;34m'class'\u001b[0m\u001b[1;33m:\u001b[0m \u001b[1;34m'info'\u001b[0m\u001b[1;33m}\u001b[0m\u001b[1;33m)\u001b[0m\u001b[1;33m.\u001b[0m\u001b[0mtext\u001b[0m\u001b[1;33m\u001b[0m\u001b[1;33m\u001b[0m\u001b[0m\n\u001b[0m\u001b[0;32m      8\u001b[0m \u001b[0mprint\u001b[0m\u001b[1;33m(\u001b[0m\u001b[0mcontent\u001b[0m\u001b[1;33m)\u001b[0m\u001b[1;33m\u001b[0m\u001b[1;33m\u001b[0m\u001b[0m\n",
      "\u001b[1;31mAttributeError\u001b[0m: 'NoneType' object has no attribute 'text'"
     ]
    }
   ],
   "source": [
    "\n"
   ]
  },
  {
   "cell_type": "code",
   "execution_count": null,
   "id": "390c6c70-5992-4a2f-bd2e-3e46fadfe4c7",
   "metadata": {},
   "outputs": [],
   "source": []
  }
 ],
 "metadata": {
  "kernelspec": {
   "display_name": "Python 3 (ipykernel)",
   "language": "python",
   "name": "python3"
  },
  "language_info": {
   "codemirror_mode": {
    "name": "ipython",
    "version": 3
   },
   "file_extension": ".py",
   "mimetype": "text/x-python",
   "name": "python",
   "nbconvert_exporter": "python",
   "pygments_lexer": "ipython3",
   "version": "3.9.7"
  }
 },
 "nbformat": 4,
 "nbformat_minor": 5
}
